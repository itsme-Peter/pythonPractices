{
 "cells": [
  {
   "cell_type": "markdown",
   "metadata": {},
   "source": [
    "Polymorphism\n",
    "The word polymorphism means having many forms. In programming, polymorphism means the same function name (but different signatures) being used for different types. The key difference is the data types and number of arguments used in function."
   ]
  },
  {
   "cell_type": "code",
   "execution_count": 3,
   "metadata": {},
   "outputs": [
    {
     "name": "stdout",
     "output_type": "stream",
     "text": [
      "5\n",
      "4\n"
     ]
    }
   ],
   "source": [
    "#polymorphism\n",
    "print(len(\"Peter\")) # on a string\n",
    "\n",
    "print(len([1,2,3,4])) # on an integer"
   ]
  },
  {
   "cell_type": "markdown",
   "metadata": {},
   "source": [
    "Encapsulation\n",
    "It describes the idea of wrapping data and the methods that work on data within one unit. It put an access restriction and modification of data. \n",
    "Private variables - can only be changed by an object’s method. "
   ]
  },
  {
   "cell_type": "code",
   "execution_count": 2,
   "metadata": {},
   "outputs": [
    {
     "name": "stdout",
     "output_type": "stream",
     "text": [
      "Calling a varible of Base class => 2\n",
      "Its now 120\n",
      "2\n"
     ]
    }
   ],
   "source": [
    "#encapsulation\n",
    "\n",
    "#base class\n",
    "class Base:\n",
    "    def __init__(self):\n",
    "        self.a = 2\n",
    "\n",
    "#derived class\n",
    "class derived(Base):\n",
    "    def __init__(self):\n",
    "        Base.__init__(self)\n",
    "        print(f\"Calling a varible of Base class => {self.a}\")\n",
    "\n",
    "    def change(self):\n",
    "        self.a = 120\n",
    "        return f\"Its now {self.a}\"\n",
    "\n",
    "    \n",
    "\n",
    "deri = derived()\n",
    "base = Base()\n",
    "\n",
    "print(deri.change())\n",
    "print(base.a)\n",
    "\n",
    "\n"
   ]
  },
  {
   "cell_type": "markdown",
   "metadata": {},
   "source": [
    "Inheritance\n",
    "Inheritance allows us to define a class that inherits all the methods and properties from another class.\n",
    "Parent class is the class being inherited from, also called base class.\n",
    "Child class is the class that inherits from another class, also called derived class."
   ]
  },
  {
   "cell_type": "code",
   "execution_count": 8,
   "metadata": {},
   "outputs": [
    {
     "name": "stdout",
     "output_type": "stream",
     "text": [
      "Peter,Mugwe\n",
      "Cyrus,KKKK\n"
     ]
    }
   ],
   "source": [
    "#inheritance\n",
    "class Person:\n",
    "    def __init__(self,fname,sname):\n",
    "        self.firstName = fname\n",
    "        self.secondName = sname\n",
    "\n",
    "    def c_out(self):\n",
    "        return f\"{self.firstName},{self.secondName}\"\n",
    "\n",
    "#inherits methods and functionality of person class\n",
    "class Student(Person):\n",
    "    def __str__():\n",
    "        return self.firstName\n",
    "\n",
    "#using super()\n",
    "class graduate(Person):\n",
    "    def __init__(self,fname,sname,year): # this overrides the Person class __init__()\n",
    "        super().__init__(self,fname,sname) # it makes it inherit the person methods and properties\n",
    "        self.graduationYear = year\n",
    "\n",
    "    def lastly(self):\n",
    "        return f\"GoodBye {self.graduationYear}\"\n",
    "\n",
    "    def __repr__(self):\n",
    "        return f\"{self.firstName},{self.secondName}\"\n",
    "\n",
    "person1 = Person(\"Peter\",\"Mugwe\")\n",
    "student = Student(\"Cyrus\",\"KKKK\")\n",
    "\n",
    "print(person1.c_out())\n",
    "print(student.c_out())\n"
   ]
  },
  {
   "cell_type": "markdown",
   "metadata": {},
   "source": [
    "Data Abstraction\n",
    "It focuses on hiding the internal implementations of a process or method from the user. In this way, the user knows what he is doing but not how the work is being done."
   ]
  },
  {
   "cell_type": "code",
   "execution_count": 9,
   "metadata": {},
   "outputs": [
    {
     "name": "stdout",
     "output_type": "stream",
     "text": [
      "Toyota Camry is starting\n",
      "Toyota Camry is accelerating to 30 mph\n",
      "Toyota Camry is slowing down to 25 mph\n"
     ]
    }
   ],
   "source": [
    "class Car:\n",
    "    def __init__(self, make, model):\n",
    "        self.make = make\n",
    "        self.model = model\n",
    "        self.speed = 0\n",
    "\n",
    "    def start(self):\n",
    "        print(f\"{self.make} {self.model} is starting\")\n",
    "\n",
    "    def accelerate(self, increment):\n",
    "        self.speed += increment\n",
    "        print(f\"{self.make} {self.model} is accelerating to {self.speed} mph\")\n",
    "\n",
    "    def brake(self):\n",
    "        self.speed = max(0, self.speed - 5)\n",
    "        print(f\"{self.make} {self.model} is slowing down to {self.speed} mph\")\n",
    "\n",
    "# Create a car object and interact with it using abstraction\n",
    "my_car = Car(\"Toyota\", \"Camry\")\n",
    "my_car.start()\n",
    "my_car.accelerate(30)\n",
    "my_car.brake()\n"
   ]
  }
 ],
 "metadata": {
  "kernelspec": {
   "display_name": "Python 3",
   "language": "python",
   "name": "python3"
  },
  "language_info": {
   "codemirror_mode": {
    "name": "ipython",
    "version": 3
   },
   "file_extension": ".py",
   "mimetype": "text/x-python",
   "name": "python",
   "nbconvert_exporter": "python",
   "pygments_lexer": "ipython3",
   "version": "3.10.11"
  },
  "orig_nbformat": 4
 },
 "nbformat": 4,
 "nbformat_minor": 2
}
