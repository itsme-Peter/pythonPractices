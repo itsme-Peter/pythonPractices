{
 "cells": [
  {
   "cell_type": "markdown",
   "metadata": {},
   "source": [
    "split(\" \")\n",
    "join()\n",
    "replace()\n",
    "strip()\n",
    "sorted([1,2,3])\n",
    "a.sort()\n",
    "\n",
    ".isalnum() \n",
    ".isalpha() , islower() , isupper()\n",
    ".isdigit() , isfloat()\n",
    "\n",
    ".title() , .capitalize()\n",
    "In Python, a string of text can be aligned left, right and center.\n",
    "This method returns a left aligned string of length width.\n",
    ".ljust(width)\n",
    ".center(width)\n",
    ".rjust(width)\n",
    "\n",
    "textwrapping\n",
    "a single string with newline characters ('\\n') where the breaks should be\n",
    "\n",
    "import textwrap\n",
    "textwrap.shorten(\"Hello world\", width=10,placeholder=\"..\")\n",
    ".shorten(), .fill(), .dedebt(), .indent(), .TextWrapper(), .....\n",
    "\n",
    "alphabetical letters\n",
    "\n",
    "import string\n",
    "alphabetical_letters = string.ascii_lowercase\n",
    "\n",
    "if __name__ == '__main__':\n",
    "    pass\n",
    "\n",
    "\n",
    "\n"
   ]
  },
  {
   "cell_type": "code",
   "execution_count": 2,
   "metadata": {},
   "outputs": [
    {
     "name": "stdout",
     "output_type": "stream",
     "text": [
      "hsTjID\n"
     ]
    }
   ],
   "source": [
    "s = \"HStJid\"\n",
    "\n",
    "result =''.join(i.lower() if i.isupper() else i.upper() for i in s )\n",
    "print(result)"
   ]
  },
  {
   "cell_type": "code",
   "execution_count": 17,
   "metadata": {},
   "outputs": [
    {
     "name": "stdout",
     "output_type": "stream",
     "text": [
      "HackerRank ---------\n",
      "---- HackerRank ----\n",
      "--------- HackerRank\n"
     ]
    }
   ],
   "source": [
    "width = 20\n",
    "print('HackerRank '.ljust(width,'-'))\n",
    "print(' HackerRank '.center(width,'-'))\n",
    "print(' HackerRank'.rjust(width,'-'))"
   ]
  },
  {
   "cell_type": "code",
   "execution_count": 16,
   "metadata": {},
   "outputs": [
    {
     "name": "stdout",
     "output_type": "stream",
     "text": [
      "('adbc\\ndefg\\nhijk\\nlmno\\npqrs\\nt', ['adbc', 'defg', 'hijk', 'lmno', 'pqrs', 't'])\n"
     ]
    }
   ],
   "source": [
    "import textwrap\n",
    "\n",
    "string = \"adbcdefghijklmnopqrst\"\n",
    "\n",
    "\n",
    "def wrap(string, max_width=4):\n",
    "    \n",
    "    return textwrap.fill(string,max_width),textwrap.wrap(string,max_width)\n",
    "\n",
    "x,y = wrap(string, max_width=4)\n",
    "print(x)\n",
    "print(y)"
   ]
  },
  {
   "cell_type": "code",
   "execution_count": 19,
   "metadata": {},
   "outputs": [
    {
     "name": "stdout",
     "output_type": "stream",
     "text": [
      "2\n",
      "4\n",
      "6\n"
     ]
    }
   ],
   "source": [
    "n = 7\n",
    "\n",
    "for i in range(1,n+1):\n",
    "    if i % 2 == 0:\n",
    "        print(i)\n",
    "        "
   ]
  },
  {
   "cell_type": "code",
   "execution_count": 20,
   "metadata": {},
   "outputs": [
    {
     "name": "stdout",
     "output_type": "stream",
     "text": [
      "---------.|.---------\n",
      "------.|..|..|.------\n",
      "---.|..|..|..|..|.---\n",
      "-------WELCOME-------\n",
      "---.|..|..|..|..|.---\n",
      "------.|..|..|.------\n",
      "---------.|.---------\n"
     ]
    }
   ],
   "source": [
    "# Enter your code here. Read input from STDIN. Print output to STDOUT\n",
    "n , m = map(int,input().split())\n",
    "s = '.|.'\n",
    "\n",
    "for i in range(1,int(n)+1):\n",
    "    \n",
    "    if i == 1 or i == n+1:\n",
    "        print((s).center(m,'-'))\n",
    "    if i % 2 == 0:\n",
    "        if i != n-1:\n",
    "            s = \"..|\" * i\n",
    "            res = f\".|{s}.\"\n",
    "        \n",
    "            print(res.center(m,'-'))\n",
    "            \n",
    "        else:\n",
    "            print(\"WELCOME\".center(m,'-'))\n",
    "\n",
    "for i in range(1,int(n)+1):\n",
    "    e = int(n) - int(i)\n",
    "    if e == n-1:\n",
    "        continue\n",
    "    if e % 2 == 0: \n",
    "        d = \"..|\" * e\n",
    "        print(f\".|{d}.\".center(m,'-'))\n",
    "    \n",
    "        \n",
    "\n",
    "    "
   ]
  },
  {
   "cell_type": "code",
   "execution_count": 21,
   "metadata": {},
   "outputs": [
    {
     "name": "stdout",
     "output_type": "stream",
     "text": [
      "    1     1     1     1\n",
      "    2     2     2    10\n",
      "    3     3     3    11\n",
      "    4     4     4   100\n",
      "    5     5     5   101\n",
      "    6     6     6   110\n",
      "    7     7     7   111\n",
      "    8    10     8  1000\n",
      "    9    11     9  1001\n",
      "   10    12     A  1010\n",
      "   11    13     B  1011\n",
      "   12    14     C  1100\n",
      "   13    15     D  1101\n",
      "   14    16     E  1110\n",
      "   15    17     F  1111\n",
      "   16    20    10 10000\n",
      "   17    21    11 10001\n",
      "   18    22    12 10010\n",
      "   19    23    13 10011\n",
      "   20    24    14 10100\n"
     ]
    }
   ],
   "source": [
    "def print_formatted(number):\n",
    "    # your code goes here\n",
    "    for i in range(1,number+1):\n",
    "    \n",
    "        i , w = int(i) , len(bin(number)[2:])\n",
    "        res = f\"{str(i).rjust(w)} {oct(i)[2:].rjust(w)} {hex(i)[2:].upper().rjust(w)} {bin(i)[2:].rjust(w)}\"\n",
    "        print(res)\n",
    "\n",
    "print_formatted(20)"
   ]
  },
  {
   "cell_type": "code",
   "execution_count": 24,
   "metadata": {},
   "outputs": [
    {
     "name": "stdout",
     "output_type": "stream",
     "text": [
      "a\n"
     ]
    },
    {
     "name": "stdout",
     "output_type": "stream",
     "text": [
      "------d------\n",
      "----d-c-d----\n",
      "--d-c-b-c-d--\n",
      "d-c-b-a-b-c-d\n",
      "--d-c-b-c-d--\n",
      "----d-c-d----\n",
      "------d------\n"
     ]
    }
   ],
   "source": [
    "import string\n",
    "alphabetical_letters = string.ascii_lowercase\n",
    "print(alphabetical_letters[0])\n",
    "\n",
    "import string as st\n",
    "\n",
    "def print_rangoli(size):\n",
    "    # your code goes here\n",
    "    w = 4 * size -3\n",
    "  \n",
    "    for i in range(1,size+1):\n",
    "        s = size - int(i)\n",
    "        letters = st.ascii_lowercase[s:size]\n",
    "        string = \"-\".join(sorted(letters,reverse=True)[:i-1] + sorted(letters,reverse=False))\n",
    "        \n",
    "        print(string.center(w,'-'))\n",
    "    \n",
    "    for i in range(0,size):\n",
    "        letters = st.ascii_lowercase[i:size]\n",
    "        if len(letters) >= size:\n",
    "            continue\n",
    "        # print(sorted(letters,reverse=True))\n",
    "        else:\n",
    "            s = size - int(i)\n",
    "            string = \"-\".join(sorted(letters,reverse=True) + sorted(letters,reverse=False)[1:])\n",
    "        \n",
    "            print(string.center(w,'-'))\n",
    "\n",
    "if __name__ == '__main__':\n",
    "    n = int(input())\n",
    "    print_rangoli(n)"
   ]
  },
  {
   "cell_type": "code",
   "execution_count": 35,
   "metadata": {},
   "outputs": [
    {
     "name": "stdout",
     "output_type": "stream",
     "text": [
      "1 W 2 R 3g\n",
      "1 W 2 R 3G\n"
     ]
    }
   ],
   "source": [
    "s = \"1 w 2 r 3g\"\n",
    "def solve(s):\n",
    "    if len(s.split()) >= 2:\n",
    "        s = s.split(\" \")\n",
    "        return ' '.join(i.capitalize() for i in s)\n",
    "    else:\n",
    "        return s.title()\n",
    "\n",
    "print(solve(s))\n",
    "print(\"1 w 2 r 3g\".title())"
   ]
  },
  {
   "cell_type": "code",
   "execution_count": 81,
   "metadata": {},
   "outputs": [
    {
     "name": "stdout",
     "output_type": "stream",
     "text": [
      "Stuart 33\n"
     ]
    }
   ],
   "source": [
    "import string as st\n",
    "\n",
    "def minion_game(stri):\n",
    "    # your code goes here\n",
    "    vowels = \"AEIOU\".lower()\n",
    "    consonants = \"\"\n",
    "    kevin , stuart = 0 , 0\n",
    "    for i, char in enumerate(stri):\n",
    "        if char in vowels:\n",
    "            kevin += len(stri) - i\n",
    "        elif char == \" \":\n",
    "            continue\n",
    "        else:\n",
    "            stuart += len(stri) - i\n",
    "\n",
    "    # kevin, stuart = sum(len(stri) - i for i, char in enumerate(stri) if char in vowels), sum(len(stri) - i for i, char in enumerate(stri) if char not in vowels and char != \" \")\n",
    "\n",
    "    return f\"Kevin {kevin}\" if kevin > stuart else f\"Stuart {stuart}\" if stuart > kevin else \"Draw\"\n",
    "            \n",
    "\n",
    "print(minion_game(\"banana repi\"))"
   ]
  },
  {
   "cell_type": "code",
   "execution_count": 13,
   "metadata": {},
   "outputs": [
    {
     "name": "stdout",
     "output_type": "stream",
     "text": [
      "am\n",
      "uny\n"
     ]
    }
   ],
   "source": [
    "k = 3\n",
    "string = \"aamuny\"\n",
    "def merge_the_tools(string, k):\n",
    "    # your code goes here\n",
    "    start,end = 0,k\n",
    "    for i in range(int(len(string)/k)):\n",
    "        print(''.join(i for i in set(string[start:end])))\n",
    "        start += k\n",
    "        end += k\n",
    "    \n",
    "merge_the_tools(string,k)"
   ]
  },
  {
   "cell_type": "code",
   "execution_count": 22,
   "metadata": {},
   "outputs": [
    {
     "name": "stdout",
     "output_type": "stream",
     "text": [
      "(453, 789) "
     ]
    }
   ],
   "source": [
    "from itertools import product\n",
    "\n",
    "k,j = list(map(int,input().split())),list(map(int,input().split()))\n",
    "for item in list(product(k,j)):\n",
    "    print(item,\"\",end='')"
   ]
  }
 ],
 "metadata": {
  "kernelspec": {
   "display_name": "Python 3",
   "language": "python",
   "name": "python3"
  },
  "language_info": {
   "codemirror_mode": {
    "name": "ipython",
    "version": 3
   },
   "file_extension": ".py",
   "mimetype": "text/x-python",
   "name": "python",
   "nbconvert_exporter": "python",
   "pygments_lexer": "ipython3",
   "version": "3.10.11"
  },
  "orig_nbformat": 4
 },
 "nbformat": 4,
 "nbformat_minor": 2
}
