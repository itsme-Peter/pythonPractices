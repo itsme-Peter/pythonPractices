{
 "cells": [
  {
   "cell_type": "markdown",
   "metadata": {},
   "source": [
    "Itertools :- Three types\n",
    "\n",
    "Infinite -  But it is not necessary that an iterator object has to exhaust, sometimes it can be infinite.\n",
    "> count(start,step) \n",
    "> cycle(iterable) => cycle('AB) ====> A B A B\n",
    "> repeat(val,number)\n",
    "\n",
    "\n",
    "Combinatoric -  The recursive generators that are used to simplify combinatorial constructs such as permutations, combinations, and Cartesian products are called combinatoric iterators\n",
    "Product\n",
    "> product() => computes the cartesian product of input iterables\n",
    "Permutations - generate all possible permutations of an iterable. \n",
    "> Permutations()\n",
    "Combinations - all the possible combinations(without replacement)\n",
    "> Combinations()\n",
    "Combination with replacement -  Individual elements may repeat itself \n",
    "> combinations_with_replacement()\n",
    "\n",
    "\n",
    "Terminating - used to work on the short input sequences and produce the output based on the functionality of the method used\n",
    "Accumulate - two arguments, iterable target and the function which would be followed at each iteration of value \n",
    "> accumulate(iter,func)\n",
    "Chain - sed to print all the values in iterable targets one after another mentioned in its arguments.\n",
    "> chain(iter,iter)\n",
    "Chain.from_iterable - This function is implemented similarly as a chain() but the argument here is a list of lists or any other iterable container.\n",
    "> chain.from_iterable()\n",
    "Compress - selectively picks the values to print from the passed container according to the boolean list value passed as other arguments.\n",
    "> Compress(iter,selector)\n",
    "Dropwhile - This iterator starts printing the characters only after the func. in argument returns false for the first time.\n",
    "> dropwhile(func,seq)\n",
    "Filterfalse -  this iterator prints only values that return false for the passed function.\n",
    "> filterfalse(func,seq)\n",
    "Islice(iterable,stop,start,step) - This iterator selectively prints the values mentioned in its iterable container passed as argument. \n",
    "> islice(,iterable,start,stop,step)\n",
    "Starmap() - This iterator takes a function and tuple list as argument and returns the value according to the function from each tuple of the list.\n",
    "> startmap(func,tuple)\n",
    "Takewhile - the opposite of dropwhile(), it prints the values till the function returns false for 1st time.\n",
    "> takewhile(func,iter)\n",
    "Tee - splits the container into a number of iterators mentioned in the argument.\n",
    "> tee(iter,count)\n",
    "Zip_longest - prints the values of iterables alternatively in sequence. If one of the iterables is printed fully, the remaining values are filled by the values assigned to fillvalue.\n",
    "> zip_longest()\n",
    "groupby() - it is used for grouping elements from an iterable (like a list or a tuple) based on a specified key or function. It's a powerful tool for data manipulation and is often used with the sorted() function to group elements by some criterion.\n",
    "> groupby(iterable, key=key_function)"
   ]
  },
  {
   "cell_type": "code",
   "execution_count": 5,
   "metadata": {},
   "outputs": [
    {
     "name": "stdout",
     "output_type": "stream",
     "text": [
      "42\n"
     ]
    }
   ],
   "source": [
    "import operator\n",
    "\n",
    "mult = operator.mul(6,7)\n",
    "\n",
    "print(mult)\n"
   ]
  },
  {
   "cell_type": "code",
   "execution_count": 23,
   "metadata": {},
   "outputs": [
    {
     "name": "stdout",
     "output_type": "stream",
     "text": [
      "1:False , 3:False , \n",
      "\n",
      "(0, 'P') (1, 'E') (2, 'T') (3, 'E') (4, 'R') (5, 'P') \n",
      "\n",
      "P\n",
      "E\n",
      "T\n",
      "\n",
      "\n",
      "['j', 'j', 'j']\n"
     ]
    }
   ],
   "source": [
    "### infinite iterators\n",
    "\n",
    "import itertools\n",
    "\n",
    "p = 'PETER'\n",
    "# itertools.count(start,step)\n",
    "for number in itertools.count(start=1,step=2):\n",
    "    if number == 5:break\n",
    "    print(f\"{number}:{number % 2==0}\", end=\" , \")\n",
    "\n",
    "print('\\n')\n",
    "for i in enumerate(itertools.cycle(p)):\n",
    "    print(i,end=\" \")\n",
    "    if i[0] > 4:break\n",
    "\n",
    "print('\\n')\n",
    "it = itertools.cycle(p)\n",
    "for _ in range(3):\n",
    "    print(next(it))\n",
    "\n",
    "print('\\n')\n",
    "print(list(itertools.repeat('j',3)))\n"
   ]
  },
  {
   "cell_type": "code",
   "execution_count": 14,
   "metadata": {},
   "outputs": [
    {
     "name": "stdout",
     "output_type": "stream",
     "text": [
      "Product below \n",
      "\n",
      "[(1, 3), (1, 4), (2, 3), (2, 4)]\n",
      "[('a', 1), ('a', 2), ('b', 1), ('b', 2)]\n",
      "[('a', 'a'), ('a', 'b'), ('a', 'c'), ('b', 'a'), ('b', 'b'), ('b', 'c'), ('c', 'a'), ('c', 'b'), ('c', 'c')]\n",
      "Permutations below \n",
      "\n",
      "[('a', 'b', 'c'), ('a', 'c', 'b'), ('b', 'a', 'c'), ('b', 'c', 'a'), ('c', 'a', 'b'), ('c', 'b', 'a')]\n",
      "Combinations below \n",
      "\n",
      "All the combination of list in sorted order(without replacement) is:\n",
      "[('A', 2)]\n",
      "\n",
      "All the combination of string in sorted order(without replacement) is:\n",
      "[('A', 'B')]\n",
      "\n",
      "All the combination of list in sorted order(without replacement) is:\n",
      "[(0,), (1,)]\n",
      "\n",
      " Combinations_with_replacement\n",
      "[('a', 'a'), ('a', 'b'), ('b', 'b')]\n",
      "[(1, 1, 1), (1, 1, 2), (1, 1, 3), (1, 2, 2), (1, 2, 3), (1, 3, 3), (2, 2, 2), (2, 2, 3), (2, 3, 3), (3, 3, 3)]\n"
     ]
    }
   ],
   "source": [
    "import itertools\n",
    "from itertools import combinations\n",
    "\n",
    "print('Product below \\n')\n",
    "\n",
    "print(list(itertools.product([1,2],[3,4])))\n",
    "\n",
    "print(list(itertools.product(['a','b'],[1,2])))\n",
    "\n",
    "# using repeat\n",
    "print(list(itertools.product(['a','b','c'],repeat=2)))\n",
    "\n",
    "print('Permutations below \\n')\n",
    "\n",
    "k = 'abc'\n",
    "\n",
    "print(list(itertools.permutations(k)))\n",
    "\n",
    "print('Combinations below \\n')\n",
    "\n",
    "print (\"All the combination of list in sorted order(without replacement) is:\") \n",
    "print(list(combinations(['A', 2], 2)))\n",
    "print()\n",
    "   \n",
    "print (\"All the combination of string in sorted order(without replacement) is:\")\n",
    "print(list(combinations('AB', 2)))\n",
    "print()\n",
    "   \n",
    "print (\"All the combination of list in sorted order(without replacement) is:\")\n",
    "print(list(combinations(range(2), 1)))\n",
    "\n",
    "print('\\n Combinations_with_replacement')\n",
    "print(list(itertools.combinations_with_replacement(\"ab\",2)))\n",
    "print(list(itertools.combinations_with_replacement([1,2,3],3)))"
   ]
  },
  {
   "cell_type": "code",
   "execution_count": 43,
   "metadata": {},
   "outputs": [
    {
     "name": "stdout",
     "output_type": "stream",
     "text": [
      "\n",
      " accumulate\n",
      "Sum :[2, 6, 12, 19, 27, 37, 57]\n",
      "Subtract: [2, -2, -8, -15, -23, -33, -53]\n",
      "Divide: [2, 0.5, 0.08333333333333333, 0.011904761904761904, 0.001488095238095238, 0.0001488095238095238, 7.44047619047619e-06]\n",
      "Multiply: [2, 8, 48, 336, 2688, 26880, 537600]\n",
      "\n",
      " Chain \n",
      "[2, 4, 6, 7, 8, 10, 20, 'a', 'b', 'c', 'd']\n",
      "\n",
      " Chain.from_iterable\n",
      "[2, 4, 6, 7, 8, 10, 20, 'a', 'b', 'c', 'd']\n",
      "\n",
      " compress\n",
      "['G']\n",
      "['G', 'F', 'G']\n",
      "\n",
      " dropwhile\n",
      "[7, 8, 10, 20]\n",
      "\n",
      " filter\n",
      "[7]\n",
      "\n",
      " islice\n",
      "[2, 6, 8, 20]\n",
      "\n",
      " starmap\n",
      "[4, 4]\n",
      "\n",
      " takewhile\n",
      "[2, 4, 6]\n"
     ]
    }
   ],
   "source": [
    "import itertools\n",
    "import operator\n",
    "\n",
    "l = [2, 4, 6, 7, 8, 10, 20]\n",
    "print('\\n accumulate')\n",
    "print(f\"Sum :{list(itertools.accumulate(l))}\")\n",
    "print(f\"Subtract: {list(itertools.accumulate(l,operator.sub))}\")\n",
    "print(f\"Divide: {list(itertools.accumulate(l,operator.truediv))}\")\n",
    "print(f\"Multiply: {list(itertools.accumulate(l,operator.mul))}\")\n",
    "\n",
    "print('\\n Chain ')\n",
    "print(list(itertools.chain(l,['a','b','c','d'])))\n",
    "\n",
    "print('\\n Chain.from_iterable')\n",
    "print(list(itertools.chain.from_iterable([l,['a','b','c','d']])))\n",
    "\n",
    "print('\\n compress')\n",
    "print(list(itertools.compress('GEEKSFORGEEKS',[1])))\n",
    "print(list(itertools.compress('GEEKSFORGEEKS',[1,0,0,0,0,1,0,0,1,0,0,0,0])))\n",
    "\n",
    "print('\\n dropwhile')\n",
    "print (list(itertools.dropwhile(lambda x : x % 2 == 0, l)))\n",
    "# print(list(itertools.dropwhile(int,['1','2','3','4'])))\n",
    "\n",
    "print('\\n filter')\n",
    "print (list(itertools.filterfalse(lambda x : x % 2 == 0, l)))\n",
    "\n",
    "print('\\n islice')\n",
    "print(list(itertools.islice(l,0,len(l),2)))\n",
    "\n",
    "print('\\n starmap')\n",
    "print(list(itertools.starmap(max,[(1,2,4),(2,3,4)])))\n",
    "\n",
    "print('\\n takewhile')\n",
    "print (list(itertools.takewhile(lambda x : x % 2 == 0, l)))"
   ]
  },
  {
   "cell_type": "code",
   "execution_count": 59,
   "metadata": {},
   "outputs": [
    {
     "name": "stdout",
     "output_type": "stream",
     "text": [
      "\n",
      " zip longest\n",
      "[('1', 'a'), ('2', 'b'), ('3', 'd'), ('_', 'c')]\n",
      "\n",
      " tee\n",
      "abc\n",
      "[<itertools._tee object at 0x0000027FCCF53B80>, <itertools._tee object at 0x0000027FCA605940>]\n",
      "************************\n"
     ]
    }
   ],
   "source": [
    "print('\\n zip longest')\n",
    "print(list(itertools.zip_longest(\"123\",\"abdc\",fillvalue='_')))\n",
    "\n",
    "print('\\n tee')\n",
    "print(k)\n",
    "ti = itertools.tee(iter(k),2)\n",
    "print(list(ti))\n",
    "print(\"************************\")\n"
   ]
  },
  {
   "cell_type": "code",
   "execution_count": 71,
   "metadata": {},
   "outputs": [
    {
     "name": "stdout",
     "output_type": "stream",
     "text": [
      "hack\n",
      "[('h', 'a'), ('h', 'c'), ('h', 'k'), ('a', 'h'), ('a', 'c'), ('a', 'k'), ('c', 'h'), ('c', 'a'), ('c', 'k'), ('k', 'h'), ('k', 'a'), ('k', 'c')]\n",
      "ac ah ak ca ch ck ha hc hk ka kc kh "
     ]
    }
   ],
   "source": [
    "import itertools\n",
    "\n",
    "k = input().split()\n",
    "print(k[0])\n",
    "print(list(itertools.permutations(k[0],int(k[1]))))\n",
    "\n",
    "result = sorted(list(itertools.permutations(k[0],int(k[1]))))\n",
    "\n",
    "for i in result:\n",
    "    print(''.join(i),end=' ')\n"
   ]
  },
  {
   "cell_type": "code",
   "execution_count": 73,
   "metadata": {},
   "outputs": [
    {
     "name": "stdout",
     "output_type": "stream",
     "text": [
      "a c h k ac ah ak ch ck hk "
     ]
    }
   ],
   "source": [
    "from itertools import combinations\n",
    "\n",
    "# Input\n",
    "input_string, size = input().split()\n",
    "size = int(size)\n",
    "\n",
    "# Generate and print combinations\n",
    "for i in range(1, size + 1):\n",
    "    combinations_list = list(combinations(sorted(input_string), i))\n",
    "    for combo in combinations_list:\n",
    "        print(\"\".join(combo),end=' ')\n"
   ]
  },
  {
   "cell_type": "code",
   "execution_count": 74,
   "metadata": {},
   "outputs": [
    {
     "name": "stdout",
     "output_type": "stream",
     "text": [
      "aa ac ah ak cc ch ck hh hk kk "
     ]
    }
   ],
   "source": [
    "import itertools\n",
    "\n",
    "string , size = input().split()\n",
    "string , size = sorted(string),int(size)\n",
    "\n",
    "for i in list(itertools.combinations_with_replacement(string,size)):print(''.join(i),end=' ')"
   ]
  },
  {
   "cell_type": "code",
   "execution_count": 78,
   "metadata": {},
   "outputs": [
    {
     "name": "stdout",
     "output_type": "stream",
     "text": [
      "<itertools.groupby object at 0x0000027FCAD3DCB0>\n",
      "Group 1: [1]\n",
      "Group 0: [2]\n",
      "Group 1: [3]\n",
      "Group 0: [4]\n",
      "Group 1: [5]\n",
      "Group 0: [6]\n",
      "Group 1: [7]\n",
      "Group 0: [8]\n",
      "Group 1: [9]\n",
      "Group 0: [10]\n"
     ]
    }
   ],
   "source": [
    "from itertools import groupby\n",
    "\n",
    "numbers = [1, 2, 3, 4, 5, 6, 7, 8, 9, 10]\n",
    "\n",
    "# Define a key function to group by even/odd\n",
    "def key_func(x):\n",
    "    return x % 2\n",
    "\n",
    "# Group the numbers\n",
    "grouped = groupby(numbers, key=key_func)\n",
    "print((grouped))\n",
    "for key, group in grouped:\n",
    "    print(f\"Group {key}: {list(group)}\")\n"
   ]
  }
 ],
 "metadata": {
  "kernelspec": {
   "display_name": "Python 3",
   "language": "python",
   "name": "python3"
  },
  "language_info": {
   "codemirror_mode": {
    "name": "ipython",
    "version": 3
   },
   "file_extension": ".py",
   "mimetype": "text/x-python",
   "name": "python",
   "nbconvert_exporter": "python",
   "pygments_lexer": "ipython3",
   "version": "3.10.11"
  },
  "orig_nbformat": 4
 },
 "nbformat": 4,
 "nbformat_minor": 2
}
