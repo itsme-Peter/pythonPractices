{
 "cells": [
  {
   "cell_type": "markdown",
   "metadata": {},
   "source": []
  },
  {
   "cell_type": "code",
   "execution_count": 5,
   "metadata": {},
   "outputs": [
    {
     "name": "stdout",
     "output_type": "stream",
     "text": [
      "10\n",
      "14\n"
     ]
    }
   ],
   "source": [
    "# linked list\n",
    "class Node:\n",
    "    def __init__(self,data):\n",
    "        self.data = data\n",
    "        self.next = None\n",
    "\n",
    "class linkedList:\n",
    "    def __init__(self):\n",
    "        self.head = None\n",
    "\n",
    "    def append(self,data):\n",
    "        new_node = Node(data)\n",
    "        if not self.head:\n",
    "            self.head = new_node\n",
    "        else:\n",
    "            current = self.head\n",
    "            while current.next:\n",
    "                current = current.nect\n",
    "            current.next = new_node\n",
    "\n",
    "    def read(self):\n",
    "        current = self.head\n",
    "        lst = []\n",
    "        while current:\n",
    "            # print(current.data)\n",
    "            lst.append(current.data)\n",
    "            current = current.next\n",
    "\n",
    "    def update(self,data,target):\n",
    "        current = self.head\n",
    "        while current:\n",
    "            if current.data == target:\n",
    "                current.data = data\n",
    "                return\n",
    "            current = current.next\n",
    "        else:\n",
    "            print(f\"{target} not found in linked list\")\n",
    "\n",
    "    def delete(self,data):\n",
    "        if not self.head:\n",
    "            return\n",
    "        \n",
    "        current = self.head\n",
    "        if current.data == data:\n",
    "            self.head = current.next\n",
    "        \n",
    "        while current:\n",
    "            if current.data == data:\n",
    "                current = current.next\n",
    "                return\n",
    "            current = current.next\n",
    "\n",
    "linked = linkedList()\n",
    "linked.append(10)\n",
    "linked.append(14)\n",
    "linked.read()\n",
    "        "
   ]
  }
 ],
 "metadata": {
  "kernelspec": {
   "display_name": "Python 3",
   "language": "python",
   "name": "python3"
  },
  "language_info": {
   "codemirror_mode": {
    "name": "ipython",
    "version": 3
   },
   "file_extension": ".py",
   "mimetype": "text/x-python",
   "name": "python",
   "nbconvert_exporter": "python",
   "pygments_lexer": "ipython3",
   "version": "3.10.11"
  }
 },
 "nbformat": 4,
 "nbformat_minor": 2
}
